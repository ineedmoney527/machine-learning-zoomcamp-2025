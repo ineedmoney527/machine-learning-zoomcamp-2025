{
 "cells": [
  {
   "cell_type": "code",
   "execution_count": 4,
   "id": "bdd1458f",
   "metadata": {},
   "outputs": [
    {
     "data": {
      "application/vnd.microsoft.datawrangler.viewer.v0+json": {
       "columns": [
        {
         "name": "index",
         "rawType": "int64",
         "type": "integer"
        },
        {
         "name": "engine_displacement",
         "rawType": "int64",
         "type": "integer"
        },
        {
         "name": "horsepower",
         "rawType": "float64",
         "type": "float"
        },
        {
         "name": "vehicle_weight",
         "rawType": "float64",
         "type": "float"
        },
        {
         "name": "model_year",
         "rawType": "int64",
         "type": "integer"
        },
        {
         "name": "fuel_efficiency_mpg",
         "rawType": "float64",
         "type": "float"
        }
       ],
       "ref": "c1651f5c-d5e9-4a14-bcd0-816055829e19",
       "rows": [
        [
         "0",
         "170",
         "159.0",
         "3413.433758606219",
         "2003",
         "13.231728906241411"
        ],
        [
         "1",
         "130",
         "97.0",
         "3149.6649342200353",
         "2007",
         "13.688217435463793"
        ],
        [
         "2",
         "170",
         "78.0",
         "3079.03899736884",
         "2018",
         "14.246340998160866"
        ],
        [
         "3",
         "220",
         null,
         "2542.392401828378",
         "2009",
         "16.91273559598635"
        ],
        [
         "4",
         "210",
         "140.0",
         "3460.870989989018",
         "2009",
         "12.488369121964562"
        ]
       ],
       "shape": {
        "columns": 5,
        "rows": 5
       }
      },
      "text/html": [
       "<div>\n",
       "<style scoped>\n",
       "    .dataframe tbody tr th:only-of-type {\n",
       "        vertical-align: middle;\n",
       "    }\n",
       "\n",
       "    .dataframe tbody tr th {\n",
       "        vertical-align: top;\n",
       "    }\n",
       "\n",
       "    .dataframe thead th {\n",
       "        text-align: right;\n",
       "    }\n",
       "</style>\n",
       "<table border=\"1\" class=\"dataframe\">\n",
       "  <thead>\n",
       "    <tr style=\"text-align: right;\">\n",
       "      <th></th>\n",
       "      <th>engine_displacement</th>\n",
       "      <th>horsepower</th>\n",
       "      <th>vehicle_weight</th>\n",
       "      <th>model_year</th>\n",
       "      <th>fuel_efficiency_mpg</th>\n",
       "    </tr>\n",
       "  </thead>\n",
       "  <tbody>\n",
       "    <tr>\n",
       "      <th>0</th>\n",
       "      <td>170</td>\n",
       "      <td>159.0</td>\n",
       "      <td>3413.433759</td>\n",
       "      <td>2003</td>\n",
       "      <td>13.231729</td>\n",
       "    </tr>\n",
       "    <tr>\n",
       "      <th>1</th>\n",
       "      <td>130</td>\n",
       "      <td>97.0</td>\n",
       "      <td>3149.664934</td>\n",
       "      <td>2007</td>\n",
       "      <td>13.688217</td>\n",
       "    </tr>\n",
       "    <tr>\n",
       "      <th>2</th>\n",
       "      <td>170</td>\n",
       "      <td>78.0</td>\n",
       "      <td>3079.038997</td>\n",
       "      <td>2018</td>\n",
       "      <td>14.246341</td>\n",
       "    </tr>\n",
       "    <tr>\n",
       "      <th>3</th>\n",
       "      <td>220</td>\n",
       "      <td>NaN</td>\n",
       "      <td>2542.392402</td>\n",
       "      <td>2009</td>\n",
       "      <td>16.912736</td>\n",
       "    </tr>\n",
       "    <tr>\n",
       "      <th>4</th>\n",
       "      <td>210</td>\n",
       "      <td>140.0</td>\n",
       "      <td>3460.870990</td>\n",
       "      <td>2009</td>\n",
       "      <td>12.488369</td>\n",
       "    </tr>\n",
       "  </tbody>\n",
       "</table>\n",
       "</div>"
      ],
      "text/plain": [
       "   engine_displacement  horsepower  vehicle_weight  model_year  \\\n",
       "0                  170       159.0     3413.433759        2003   \n",
       "1                  130        97.0     3149.664934        2007   \n",
       "2                  170        78.0     3079.038997        2018   \n",
       "3                  220         NaN     2542.392402        2009   \n",
       "4                  210       140.0     3460.870990        2009   \n",
       "\n",
       "   fuel_efficiency_mpg  \n",
       "0            13.231729  \n",
       "1            13.688217  \n",
       "2            14.246341  \n",
       "3            16.912736  \n",
       "4            12.488369  "
      ]
     },
     "execution_count": 4,
     "metadata": {},
     "output_type": "execute_result"
    }
   ],
   "source": [
    "import pandas as pd\n",
    "import numpy as np\n",
    "\n",
    "df = pd.read_csv(\"car_fuel_efficiency.csv\")\n",
    "df = df[['engine_displacement',\n",
    "'horsepower',\n",
    "'vehicle_weight',\n",
    "'model_year',\n",
    "'fuel_efficiency_mpg']]\n",
    "\n",
    "df.head()"
   ]
  },
  {
   "cell_type": "code",
   "execution_count": null,
   "id": "57aa2436",
   "metadata": {},
   "outputs": [
    {
     "name": "stderr",
     "output_type": "stream",
     "text": [
      "Matplotlib is building the font cache; this may take a moment.\n"
     ]
    },
    {
     "data": {
      "text/plain": [
       "<Axes: >"
      ]
     },
     "execution_count": 5,
     "metadata": {},
     "output_type": "execute_result"
    },
    {
     "data": {
      "image/png": "[encoded data removed]",
      "text/plain": [
       "<Figure size 640x480 with 1 Axes>"
      ]
     },
     "metadata": {},
     "output_type": "display_data"
    }
   ],
   "source": [
    "#Look at the fuel_efficiency_mpg variable. Does it have a long tail?\n",
    "df['fuel_efficiency_mpg'].hist()\n",
    "\n",
    "## No, it does not have a long tail."
   ]
  },
  {
   "cell_type": "code",
   "execution_count": 6,
   "id": "77e4cb0b",
   "metadata": {},
   "outputs": [
    {
     "data": {
      "application/vnd.microsoft.datawrangler.viewer.v0+json": {
       "columns": [
        {
         "name": "index",
         "rawType": "object",
         "type": "string"
        },
        {
         "name": "0",
         "rawType": "int64",
         "type": "integer"
        }
       ],
       "ref": "eb935af0-bf4b-42f6-8ef2-976dfaa374ed",
       "rows": [
        [
         "engine_displacement",
         "0"
        ],
        [
         "horsepower",
         "708"
        ],
        [
         "vehicle_weight",
         "0"
        ],
        [
         "model_year",
         "0"
        ],
        [
         "fuel_efficiency_mpg",
         "0"
        ]
       ],
       "shape": {
        "columns": 1,
        "rows": 5
       }
      },
      "text/plain": [
       "engine_displacement      0\n",
       "horsepower             708\n",
       "vehicle_weight           0\n",
       "model_year               0\n",
       "fuel_efficiency_mpg      0\n",
       "dtype: int64"
      ]
     },
     "execution_count": 6,
     "metadata": {},
     "output_type": "execute_result"
    }
   ],
   "source": [
    "# q1: here's one column with missing values. What is it?\n",
    "df.isnull().sum()"
   ]
  },
  {
   "cell_type": "code",
   "execution_count": 7,
   "id": "83100d56",
   "metadata": {},
   "outputs": [
    {
     "data": {
      "text/plain": [
       "np.float64(149.0)"
      ]
     },
     "execution_count": 7,
     "metadata": {},
     "output_type": "execute_result"
    }
   ],
   "source": [
    "# q2: What's the median (50% percentile) for variable 'horsepower'?\n",
    "df['horsepower'].median()"
   ]
  },
  {
   "cell_type": "code",
   "execution_count": null,
   "id": "996cfb5d",
   "metadata": {},
   "outputs": [
    {
     "name": "stdout",
     "output_type": "stream",
     "text": [
      "RMSE (fill 0): 0.52\n",
      "RMSE (fill mean): 0.46\n",
      "✅ Filling with MEAN gives better RMSE.\n"
     ]
    }
   ],
   "source": [
    "# Prepare and split the dataset\n",
    "import pandas as pd\n",
    "import numpy as np\n",
    "from sklearn.model_selection import train_test_split\n",
    "from sklearn.linear_model import LinearRegression\n",
    "from sklearn.metrics import root_mean_squared_error\n",
    "\n",
    "# Split data\n",
    "X = df.drop('fuel_efficiency_mpg', axis=1)\n",
    "y = df['fuel_efficiency_mpg']\n",
    "\n",
    "# 60/20/20 split\n",
    "X_train, X_temp, y_train, y_temp = train_test_split(X, y, test_size=0.4, random_state=42, shuffle=True)\n",
    "X_val, X_test, y_val, y_test = train_test_split(X_temp, y_temp, test_size=0.5, random_state=42, shuffle=True)\n",
    "\n",
    "# --- OPTION 1: Fill missing with 0 ---\n",
    "X_train_0 = X_train.fillna({'horsepower': 0})\n",
    "X_val_0   = X_val.fillna({'horsepower': 0})\n",
    "# print(X_train_0.isnull().sum())\n",
    "model_0 = LinearRegression()\n",
    "model_0.fit(X_train_0, y_train)\n",
    "\n",
    "y_val_pred_0 = model_0.predict(X_val_0)\n",
    "rmse_0 = root_mean_squared_error(y_val, y_val_pred_0)\n",
    "rmse_0 = round(rmse_0, 2)\n",
    "\n",
    "\n",
    "# --- OPTION 2: Fill missing with mean (computed from training only) ---\n",
    "horse_power_mean = X_train['horsepower'].mean()\n",
    "\n",
    "X_train_mean = X_train.fillna({'horsepower': horse_power_mean})\n",
    "X_val_mean   = X_val.fillna({'horsepower': horse_power_mean})\n",
    "\n",
    "model_mean = LinearRegression()\n",
    "model_mean.fit(X_train_mean, y_train)\n",
    "\n",
    "y_val_pred_mean = model_mean.predict(X_val_mean)\n",
    "rmse_mean = root_mean_squared_error(y_val, y_val_pred_mean)\n",
    "rmse_mean = round(rmse_mean, 2)\n",
    "\n",
    "# --- Compare results ---\n",
    "print(f\"RMSE (fill 0): {rmse_0}\")\n",
    "print(f\"RMSE (fill mean): {rmse_mean}\")\n",
    "\n",
    "if rmse_mean < rmse_0:\n",
    "    print(\"Filling with MEAN gives better RMSE.\")\n",
    "else:\n",
    "    print(\"Filling with 0 gives better RMSE.\")\n"
   ]
  },
  {
   "cell_type": "code",
   "execution_count": null,
   "id": "d6d2b290",
   "metadata": {},
   "outputs": [
    {
     "name": "stdout",
     "output_type": "stream",
     "text": [
      "r = 0: RMSE = 0.52\n",
      "r = 0.01: RMSE = 0.52\n",
      "r = 0.1: RMSE = 0.52\n",
      "r = 1: RMSE = 0.52\n",
      "r = 5: RMSE = 0.52\n",
      "r = 10: RMSE = 0.52\n",
      "r = 100: RMSE = 0.52\n",
      "\n",
      "✅ Best RMSE achieved with r = 0\n"
     ]
    }
   ],
   "source": [
    "# Now let's train a regularized linear regression.\n",
    "# For this question, fill the NAs with 0.\n",
    "# Try different values of r from this list: [0, 0.01, 0.1, 1, 5, 10, 100].\n",
    "# Use RMSE to evaluate the model on the validation dataset.\n",
    "# Round the RMSE scores to 2 decimal digits.\n",
    "# Which r gives the best RMSE?\n",
    "from sklearn.linear_model import Ridge\n",
    "\n",
    "\n",
    "X_train = X_train_0 \n",
    "X_val = X_val_0\n",
    "\n",
    "# Regularization values\n",
    "r_values = [0, 0.01, 0.1, 1, 5, 10, 100]\n",
    "rmse_scores = {}\n",
    "\n",
    "for r in r_values:\n",
    "    model = Ridge(alpha=r)  # alpha = regularization strength\n",
    "    model.fit(X_train, y_train)\n",
    "    y_pred = model.predict(X_val)\n",
    "    rmse = root_mean_squared_error(y_val, y_pred)\n",
    "    rmse_scores[r] = round(rmse, 2)\n",
    "\n",
    "# Print results\n",
    "for r, score in rmse_scores.items():\n",
    "    print(f\"r = {r}: RMSE = {score}\")\n",
    "\n",
    "# Find best r\n",
    "best_r = min(rmse_scores, key=rmse_scores.get)\n",
    "print(f\"\\nBest RMSE achieved with r = {best_r}\")\n"
   ]
  },
  {
   "cell_type": "code",
   "execution_count": 15,
   "id": "4f2cb9f9",
   "metadata": {},
   "outputs": [
    {
     "name": "stdout",
     "output_type": "stream",
     "text": [
      "RMSE scores for each seed: [0.52, 0.52, 0.52, 0.52, 0.51, 0.52, 0.51, 0.54, 0.52, 0.52]\n",
      "Standard deviation of RMSEs: 0.006\n"
     ]
    }
   ],
   "source": [
    "# We used seed 42 for splitting the data. Let's find out how selecting the seed influences our score.\n",
    "# Try different seed values: [0, 1, 2, 3, 4, 5, 6, 7, 8, 9].\n",
    "# For each seed, do the train/validation/test split with 60%/20%/20% distribution.\n",
    "# Fill the missing values with 0 and train a model without regularization.\n",
    "# For each seed, evaluate the model on the validation dataset and collect the RMSE scores.\n",
    "# What's the standard deviation of all the scores? To compute the standard deviation, use np.std.\n",
    "# Round the result to 3 decimal digits (round(std, 3))\n",
    "seeds = [0, 1, 2, 3, 4, 5, 6, 7, 8, 9]\n",
    "rmse_scores = []\n",
    "\n",
    "for seed in seeds:\n",
    "    # Split with this seed\n",
    "    X = df.drop('fuel_efficiency_mpg', axis=1)\n",
    "    y = df['fuel_efficiency_mpg']\n",
    "    \n",
    "    X_train, X_temp, y_train, y_temp = train_test_split(X, y, test_size=0.4, random_state=seed, shuffle=True)\n",
    "    X_val, X_test, y_val, y_test = train_test_split(X_temp, y_temp, test_size=0.5, random_state=seed, shuffle=True)\n",
    "\n",
    "    # Fill missing horse_power with 0\n",
    "    X_train = X_train.fillna({'horsepower': 0})\n",
    "    X_val = X_val.fillna({'horsepower': 0})\n",
    "\n",
    "    # Train model\n",
    "    model = LinearRegression()\n",
    "    model.fit(X_train, y_train)\n",
    "\n",
    "    # Validate\n",
    "    y_val_pred = model.predict(X_val)\n",
    "    rmse = root_mean_squared_error(y_val, y_val_pred)\n",
    "    rmse_scores.append(rmse)\n",
    "\n",
    "# Compute standard deviation\n",
    "std_rmse = round(np.std(rmse_scores), 3)\n",
    "\n",
    "print(\"RMSE scores for each seed:\", [round(r, 2) for r in rmse_scores])\n",
    "print(\"Standard deviation of RMSEs:\", std_rmse)"
   ]
  },
  {
   "cell_type": "code",
   "execution_count": null,
   "id": "1348bea7",
   "metadata": {},
   "outputs": [
    {
     "name": "stdout",
     "output_type": "stream",
     "text": [
      "✅ RMSE on test dataset: 0.52\n"
     ]
    }
   ],
   "source": [
    "# Features & target\n",
    "X = df.drop('fuel_efficiency_mpg', axis=1)\n",
    "y = df['fuel_efficiency_mpg']\n",
    "\n",
    "# Step 1: Split using seed 9\n",
    "X_train, X_temp, y_train, y_temp = train_test_split(X, y, test_size=0.4, random_state=9, shuffle=True)\n",
    "X_val, X_test, y_val, y_test = train_test_split(X_temp, y_temp, test_size=0.5, random_state=9, shuffle=True)\n",
    "\n",
    "# Step 2: Combine train + validation\n",
    "X_combined = pd.concat([X_train, X_val])\n",
    "y_combined = pd.concat([y_train, y_val])\n",
    "\n",
    "# Step 3: Fill missing values with 0\n",
    "X_combined = X_combined.fillna({'horsepower': 0})\n",
    "X_test = X_test.fillna({'horsepower': 0})\n",
    "\n",
    "# Step 4: Train Ridge model (r = 0.001)\n",
    "model = Ridge(alpha=0.001)\n",
    "model.fit(X_combined, y_combined)\n",
    "\n",
    "# Step 5: Evaluate on test set\n",
    "y_test_pred = model.predict(X_test)\n",
    "rmse_test = root_mean_squared_error(y_test, y_test_pred)\n",
    "rmse_test = round(rmse_test, 2)\n",
    "\n",
    "print(f\"RMSE on test dataset: {rmse_test}\")\n"
   ]
  }
 ],
 "metadata": {
  "kernelspec": {
   "display_name": "venv",
   "language": "python",
   "name": "python3"
  },
  "language_info": {
   "codemirror_mode": {
    "name": "ipython",
    "version": 3
   },
   "file_extension": ".py",
   "mimetype": "text/x-python",
   "name": "python",
   "nbconvert_exporter": "python",
   "pygments_lexer": "ipython3",
   "version": "3.13.7"
  }
 },
 "nbformat": 4,
 "nbformat_minor": 5
}
