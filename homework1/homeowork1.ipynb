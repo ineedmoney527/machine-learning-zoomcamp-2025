{
 "cells": [
  {
   "cell_type": "code",
   "execution_count": 58,
   "id": "e522d606",
   "metadata": {},
   "outputs": [
    {
     "name": "stdout",
     "output_type": "stream",
     "text": [
      "pandas version: 2.3.3\n"
     ]
    }
   ],
   "source": [
    "import pandas as pd\n",
    "print(\"pandas version:\",pd.__version__)\n"
   ]
  },
  {
   "cell_type": "code",
   "execution_count": 59,
   "id": "004ddeac",
   "metadata": {},
   "outputs": [
    {
     "name": "stdout",
     "output_type": "stream",
     "text": [
      "Records count: 9704\n"
     ]
    }
   ],
   "source": [
    "df = pd.read_csv('car_fuel_efficiency.csv')\n",
    "print(\"Records count:\",df.shape[0])"
   ]
  },
  {
   "cell_type": "code",
   "execution_count": 60,
   "id": "71bf8678",
   "metadata": {},
   "outputs": [
    {
     "name": "stdout",
     "output_type": "stream",
     "text": [
      "<class 'pandas.core.frame.DataFrame'>\n",
      "RangeIndex: 9704 entries, 0 to 9703\n",
      "Data columns (total 11 columns):\n",
      " #   Column               Non-Null Count  Dtype  \n",
      "---  ------               --------------  -----  \n",
      " 0   engine_displacement  9704 non-null   int64  \n",
      " 1   num_cylinders        9222 non-null   float64\n",
      " 2   horsepower           8996 non-null   float64\n",
      " 3   vehicle_weight       9704 non-null   float64\n",
      " 4   acceleration         8774 non-null   float64\n",
      " 5   model_year           9704 non-null   int64  \n",
      " 6   origin               9704 non-null   object \n",
      " 7   fuel_type            9704 non-null   object \n",
      " 8   drivetrain           9704 non-null   object \n",
      " 9   num_doors            9202 non-null   float64\n",
      " 10  fuel_efficiency_mpg  9704 non-null   float64\n",
      "dtypes: float64(6), int64(2), object(3)\n",
      "memory usage: 834.1+ KB\n"
     ]
    }
   ],
   "source": [
    "df.info()"
   ]
  },
  {
   "cell_type": "code",
   "execution_count": 61,
   "id": "2cfb124c",
   "metadata": {},
   "outputs": [
    {
     "name": "stdout",
     "output_type": "stream",
     "text": [
      "type of fuel: ['Gasoline' 'Diesel']\n"
     ]
    }
   ],
   "source": [
    "print(\"type of fuel:\",df['fuel_type'].unique())"
   ]
  },
  {
   "cell_type": "code",
   "execution_count": 62,
   "id": "8ac459fa",
   "metadata": {},
   "outputs": [
    {
     "name": "stdout",
     "output_type": "stream",
     "text": [
      "column no. with missing value: 4\n"
     ]
    }
   ],
   "source": [
    "print(\"column no. with missing value:\",(df.isnull().sum() > 0).sum())"
   ]
  },
  {
   "cell_type": "code",
   "execution_count": 63,
   "id": "e8c44722",
   "metadata": {},
   "outputs": [
    {
     "name": "stdout",
     "output_type": "stream",
     "text": [
      "max fuel efficiency (mpg) in Asia: 23.759122836520497\n"
     ]
    }
   ],
   "source": [
    "asia = df[(df[\"origin\"] == \"Asia\")]\n",
    "print(\"max fuel efficiency (mpg) in Asia:\", asia['fuel_efficiency_mpg'].max())"
   ]
  },
  {
   "cell_type": "code",
   "execution_count": 64,
   "id": "eacdaae4",
   "metadata": {},
   "outputs": [
    {
     "name": "stdout",
     "output_type": "stream",
     "text": [
      "median horsepower: 149.0\n",
      "most frequent horsepower: 152.0\n",
      "horsepower median after filling missing values: 152.0\n"
     ]
    }
   ],
   "source": [
    "median_horsepower= df['horsepower'].median()\n",
    "print(\"median horsepower:\", median_horsepower)\n",
    "\n",
    "most_frequent_horsepower = df['horsepower'].mode()[0]\n",
    "print(\"most frequent horsepower:\", most_frequent_horsepower)\n",
    "\n",
    "#fillna method to fill the missing values in the horsepower column with the most frequent value\n",
    "df['horsepower'] = df['horsepower'].fillna(most_frequent_horsepower)\n",
    "\n",
    "print(\"horsepower median after filling missing values:\", df['horsepower'].median())"
   ]
  },
  {
   "cell_type": "code",
   "execution_count": 65,
   "id": "ac15481b",
   "metadata": {},
   "outputs": [
    {
     "name": "stdout",
     "output_type": "stream",
     "text": [
      "weights sum: 0.5187709081074006\n"
     ]
    }
   ],
   "source": [
    "import numpy as np\n",
    "# Select all the cars from Asia\n",
    "asia_cars = df[df['origin'] == 'Asia']\n",
    "\n",
    "# Select only the 'vehicle_weight' and 'model_year' columns\n",
    "df2 = asia_cars[['vehicle_weight','model_year']]\n",
    "\n",
    "# select the first 7 rows\n",
    "df2 = df2.iloc[:7]\n",
    "\n",
    "# convert to numpy array\n",
    "X = df2.to_numpy()\n",
    "\n",
    "# Compute matrix-matrix multiplication between the transpose of X and X\n",
    "XTX = X.T.dot(X)\n",
    "\n",
    "# Compute the inverse of XTX\n",
    "XTX = np.linalg.inv(XTX)\n",
    "\n",
    "# output of the first 7 cars\n",
    "y = np.array([1100, 1300, 800, 900, 1000, 1100, 1200])\n",
    "\n",
    "# Compute the weights\n",
    "w = XTX.dot(X.T).dot(y)\n",
    "\n",
    "# Compute the sum of the weights\n",
    "print(\"weights sum:\",w.sum())"
   ]
  }
 ],
 "metadata": {
  "kernelspec": {
   "display_name": "venv",
   "language": "python",
   "name": "python3"
  },
  "language_info": {
   "codemirror_mode": {
    "name": "ipython",
    "version": 3
   },
   "file_extension": ".py",
   "mimetype": "text/x-python",
   "name": "python",
   "nbconvert_exporter": "python",
   "pygments_lexer": "ipython3",
   "version": "3.13.7"
  }
 },
 "nbformat": 4,
 "nbformat_minor": 5
}
